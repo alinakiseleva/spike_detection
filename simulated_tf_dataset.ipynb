{
 "cells": [
  {
   "cell_type": "code",
   "execution_count": null,
   "metadata": {
    "collapsed": true
   },
   "outputs": [],
   "source": [
    "import numpy as np\n",
    "import matplotlib.pyplot as plt\n",
    "import mne\n",
    "import pickle\n",
    "import scipy\n",
    "from delphos_detector import *"
   ]
  },
  {
   "cell_type": "code",
   "execution_count": null,
   "outputs": [],
   "source": [
    "n_chs = 1\n",
    "n_secs = 10\n",
    "sfreq = 256\n",
    "fs_range = (1, 100)\n",
    "amplitude_range = (2, 5)\n",
    "n_fs_bands = 10\n",
    "n = 10000"
   ],
   "metadata": {
    "collapsed": false
   }
  },
  {
   "cell_type": "code",
   "execution_count": null,
   "outputs": [],
   "source": [
    "with open(f'n_{n}_chs_{n_chs}_fs_{sfreq}_t_{n_secs}.pickle', 'rb') as f:\n",
    "  dataset = pickle.load(f)\n",
    "X = np.array(dataset['X'])\n",
    "Y = np.array(dataset['Y'])\n",
    "\n",
    "Oct, NbVoi, VanMom = initialize_variables(sfreq)\n",
    "\n",
    "NbVoi = 2\n",
    "\n",
    "X_tf = []\n",
    "X_tfz = []\n",
    "\n",
    "for i in range(n):\n",
    "\n",
    "    if not(i % 100):\n",
    "        print(i)\n",
    "\n",
    "    tf, freqs = DoG(\n",
    "        np.squeeze(X[i]),\n",
    "        Oct,\n",
    "        NbVoi,\n",
    "        VanMom,\n",
    "        sfreq,\n",
    "    )\n",
    "    X_tf.append(tf.T)\n",
    "\n",
    "    tfz, _, _, _ = z_H0(tf, sfreq) # apply zH0\n",
    "    X_tfz.append(tfz)\n",
    "\n",
    "del X\n",
    "\n",
    "X_tf = np.array(X_tf)\n",
    "X_tfz = np.array(X_tfz)\n",
    "\n",
    "print(freqs)"
   ],
   "metadata": {
    "collapsed": false
   }
  },
  {
   "cell_type": "code",
   "execution_count": null,
   "outputs": [],
   "source": [
    "dataset = {'X': np.array(X_tf), 'Y': Y}\n",
    "with open(f'n_{n}_chs_{n_chs}_fs_{sfreq}_t_{n_secs}_tf.pickle', 'wb') as f:\n",
    "  pickle.dump(dataset, f)\n",
    "del X_tf"
   ],
   "metadata": {
    "collapsed": false
   }
  },
  {
   "cell_type": "code",
   "execution_count": null,
   "outputs": [],
   "source": [
    "dataset = {'X': np.array(X_tfz), 'Y': Y}\n",
    "with open(f'n_{n}_chs_{n_chs}_fs_{sfreq}_t_{n_secs}_tfz.pickle', 'wb') as f:\n",
    "    pickle.dump(dataset, f)\n",
    "del X_tfz, Y"
   ],
   "metadata": {
    "collapsed": false
   }
  },
  {
   "cell_type": "code",
   "execution_count": null,
   "outputs": [],
   "source": [
    "plt.rcParams[\"figure.figsize\"] = (20,3)\n",
    "\n",
    "channel = 1\n",
    "Oct, NbVoi, VanMom = initialize_variables(sfreq)\n",
    "NbVoi = 2\n",
    "i = 1\n",
    "tf, freqs = DoG(np.squeeze(X[i]), Oct, NbVoi,VanMom,sfreq,)\n",
    "tfz, _, _, _ = z_H0(tf, sfreq)\n",
    "\n",
    "print(freqs)\n",
    "\n",
    "timepoint = np.random.randint(200, 2560-200)\n",
    "print(timepoint)\n",
    "samples = range(timepoint-200, timepoint+200)\n",
    "plt.imshow(np.real(tf[:, samples]), cmap=plt.get_cmap(\"turbo\"), vmin= np.min(np.real(tf)), vmax=np.max(np.real(tf)))\n",
    "plt.plot(X[channel, samples])\n",
    "plt.colorbar()\n",
    "plt.show()\n",
    "\n",
    "plt.imshow(tfz.T[:, samples], cmap=plt.get_cmap(\"turbo\"), vmin= np.min(np.real(tfz)), vmax=np.max(np.real(tfz)))\n",
    "plt.plot(X[channel, samples])"
   ],
   "metadata": {
    "collapsed": false
   }
  },
  {
   "cell_type": "code",
   "execution_count": null,
   "outputs": [],
   "source": [],
   "metadata": {
    "collapsed": false
   }
  }
 ],
 "metadata": {
  "kernelspec": {
   "display_name": "Python 3",
   "language": "python",
   "name": "python3"
  },
  "language_info": {
   "codemirror_mode": {
    "name": "ipython",
    "version": 2
   },
   "file_extension": ".py",
   "mimetype": "text/x-python",
   "name": "python",
   "nbconvert_exporter": "python",
   "pygments_lexer": "ipython2",
   "version": "2.7.6"
  }
 },
 "nbformat": 4,
 "nbformat_minor": 0
}
