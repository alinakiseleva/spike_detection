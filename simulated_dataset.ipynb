{
 "cells": [
  {
   "cell_type": "code",
   "execution_count": null,
   "metadata": {
    "collapsed": true
   },
   "outputs": [],
   "source": [
    "import numpy as np\n",
    "import matplotlib.pyplot as plt\n",
    "import mne\n",
    "import pickle\n",
    "import scipy\n",
    "import sklearn.model_selection as skm\n",
    "import tensorflow as tf\n",
    "from tensorflow import keras\n",
    "from tensorflow.keras import layers\n",
    "import tensorflow_addons as tfa\n",
    "from keras.regularizers import l2\n",
    "\n",
    "from signal_generator import SimluatedSpikeSignal"
   ]
  },
  {
   "cell_type": "code",
   "execution_count": null,
   "outputs": [],
   "source": [
    "n_chs = 1\n",
    "n_secs = 10\n",
    "sfreq = 256\n",
    "fs_range = (1, 100)\n",
    "amplitude_range = (2, 5)\n",
    "n_fs_bands = 10\n",
    "n = 10000"
   ],
   "metadata": {
    "collapsed": false
   }
  },
  {
   "cell_type": "code",
   "execution_count": null,
   "outputs": [],
   "source": [
    "gen = SimluatedSpikeSignal(n_chs, n_secs, sfreq, fs_range, amplitude_range, (5, 10), n_fs_bands=n_fs_bands, spike_scale=(1,3))\n",
    "X, Y = [], []\n",
    "\n",
    "for i in range(n):\n",
    "  if not(i % 100):\n",
    "    print(i)\n",
    "  data, spike_inds = next(gen())\n",
    "  data = data.T\n",
    "  X.append(data)\n",
    "  y = np.zeros((data.shape))\n",
    "  for ind in spike_inds:\n",
    "    y[ind[0], ind[1]] = 1\n",
    "  Y.append(y)\n",
    "\n",
    "dataset = {'X': X, 'Y': Y}\n",
    "with open(f'n_{n}_chs_{n_chs}_fs_{sfreq}_t_{n_secs}.pickle', 'wb') as f:\n",
    "  pickle.dump(dataset, f)\n",
    "\n",
    "del X, Y"
   ],
   "metadata": {
    "collapsed": false
   }
  },
  {
   "cell_type": "code",
   "execution_count": null,
   "outputs": [],
   "source": [
    "with open(f'Z:\\\\Alina Kiseleva\\\\DATA\\\\simulated_spikes\\\\n_{n}_chs_{n_chs}_fs_{sfreq}_t_{n_secs}.pickle', 'rb') as f:\n",
    "  dataset = pickle.load(f)\n",
    "X = np.array(dataset['X'])\n",
    "Y = np.array(dataset['Y'])\n",
    "print(X.shape, Y.shape)\n",
    "\n",
    "X_train, X_test, Y_train, Y_test = skm.train_test_split(X, Y, random_state=1)\n",
    "\n",
    "del X, Y"
   ],
   "metadata": {
    "collapsed": false
   }
  },
  {
   "cell_type": "code",
   "execution_count": null,
   "outputs": [],
   "source": [
    "%matplotlib qt\n",
    "\n",
    "i = 15\n",
    "ch_names = [f'sim{i}' for i in range(X_train.shape[0])]\n",
    "ch_types = 'seeg'\n",
    "info = mne.create_info(ch_names, ch_types=ch_types, sfreq=sfreq)\n",
    "simulated_raw = mne.io.RawArray(np.squeeze(X_train), info)\n",
    "simulated_raw.plot()"
   ],
   "metadata": {
    "collapsed": false
   }
  },
  {
   "cell_type": "code",
   "execution_count": null,
   "outputs": [],
   "source": [
    "model = keras.Sequential(\n",
    "    [\n",
    "        tf.keras.Input(shape=X_train[1, :].shape),\n",
    "        tf.keras.layers.Bidirectional(\n",
    "            tf.keras.layers.LSTM(\n",
    "                5,\n",
    "                return_sequences=True,\n",
    "                ),\n",
    "            merge_mode='mul',\n",
    "            name=\"bidir_lstm_layer1\",\n",
    "        ),\n",
    "        tf.keras.layers.Bidirectional(\n",
    "            tf.keras.layers.GRU(\n",
    "                5,\n",
    "                return_sequences=True,\n",
    "                ),\n",
    "            merge_mode='mul',\n",
    "            name=\"bidir_lstm_layer2\",\n",
    "        ),\n",
    "        tf.keras.layers.TimeDistributed(\n",
    "            tf.keras.layers.Dense(\n",
    "                5, # X_train.shape[2],\n",
    "                activation='relu', #tfa.activations.mish,\n",
    "            ),\n",
    "            name=\"dense_layer1\"\n",
    "        ),\n",
    "        # tf.keras.layers.Dropout(.4),\n",
    "        tf.keras.layers.TimeDistributed(\n",
    "            tf.keras.layers.Dense(\n",
    "                1,\n",
    "                activation='sigmoid'\n",
    "            ),\n",
    "            name=\"output_layer\"\n",
    "        ),\n",
    "    ]\n",
    ")\n",
    "\n",
    "lstm1_extractor = keras.Model(\n",
    "    inputs=model.inputs,\n",
    "    outputs=model.get_layer(name=\"bidir_lstm_layer1\").output,\n",
    ")\n",
    "\n",
    "lstm2_extractor = keras.Model(\n",
    "    inputs=model.inputs,\n",
    "    outputs=model.get_layer(name=\"bidir_lstm_layer2\").output,\n",
    ")\n",
    "\n",
    "dense1_extractor = keras.Model(\n",
    "    inputs=model.inputs,\n",
    "    outputs=model.get_layer(name=\"dense_layer1\").output,\n",
    ")\n",
    "\n",
    "output_extractor = keras.Model(\n",
    "    inputs=model.inputs,\n",
    "    outputs=model.get_layer(name=\"output_layer\").output,\n",
    ")\n",
    "\n",
    "model.build()\n",
    "model.summary()\n",
    "\n",
    "model.compile(optimizer=tf.keras.optimizers.Adam(), loss=tf.keras.losses.BinaryFocalCrossentropy(from_logits=False), metrics=['accuracy'])\n",
    "model.fit(X_train, Y_train, epochs=50, validation_split=0.2, shuffle=True )"
   ],
   "metadata": {
    "collapsed": false
   }
  },
  {
   "cell_type": "code",
   "execution_count": null,
   "outputs": [],
   "source": [
    "feature_extractor = keras.Model(\n",
    "   inputs=model.inputs,\n",
    "   outputs=[layer.output for layer in model.layers],\n",
    ")"
   ],
   "metadata": {
    "collapsed": false
   }
  },
  {
   "cell_type": "code",
   "execution_count": null,
   "outputs": [],
   "source": [
    "%matplotlib inline\n",
    "\n",
    "for l in range(len(model.layers)):\n",
    "    layer_comp = feature_extractor(X_train[i,:])[l].numpy()\n",
    "    for n in range(layer_comp.shape[2]):\n",
    "        # print(layer_comp[:, :, n])\n",
    "        plt.plot(layer_comp[:, :, n], 'r')\n",
    "        plt.plot((X_train[i, :] - np.mean(X_train[i, :])) / np.std(X_train[i, :] * 100) + 0.2)\n",
    "        plt.title(f'{model.layers[l].name} {n+1} / {layer_comp.shape[2]}')\n",
    "        plt.show()\n",
    "        plt.close()"
   ],
   "metadata": {
    "collapsed": false
   }
  },
  {
   "cell_type": "code",
   "execution_count": null,
   "outputs": [],
   "source": [
    "model.evaluate(X_test, Y_test)"
   ],
   "metadata": {
    "collapsed": false
   }
  },
  {
   "cell_type": "code",
   "execution_count": null,
   "outputs": [],
   "source": [
    "pred = model.predict(X_train)"
   ],
   "metadata": {
    "collapsed": false
   }
  },
  {
   "cell_type": "code",
   "execution_count": null,
   "outputs": [],
   "source": [
    "%matplotlib inline"
   ],
   "metadata": {
    "collapsed": false
   }
  },
  {
   "cell_type": "code",
   "execution_count": null,
   "outputs": [],
   "source": [
    "i = np.random.randint(0, Y_train.shape[0])\n",
    "print(i)\n",
    "# i = 15\n",
    "plt.vlines(np.where(Y_train[i, :]==1)[0], np.min(X_train[i, :]), np.max(X_train[i, :]), 'r', linewidth=3)\n",
    "plt.vlines(np.where(pred[i, :]>0.18)[0], np.min(X_train[i, :])-25, np.max(X_train[i, :])+25, 'g', linewidth=3, alpha=0.3)\n",
    "plt.plot(X_train[i, :])\n",
    "# plt.imshow(X_train[i, :].T)\n",
    "np.where(pred[i, :]>0)\n",
    "print(np.sum(Y_train[i, :]==1))"
   ],
   "metadata": {
    "collapsed": false
   }
  },
  {
   "cell_type": "code",
   "execution_count": null,
   "outputs": [],
   "source": [
    "# i = np.random.randint(0, Y_train.shape[0])\n",
    "x = np.array([X_train[i, :]])\n",
    "features = lstm1_extractor(x)\n",
    "for n in range(features.shape[2]):\n",
    "  plt.plot(np.array(features[:, :, n][0]), 'r')\n",
    "  plt.plot(X_train[i, :] / 10 + 3)\n",
    "  plt.show()"
   ],
   "metadata": {
    "collapsed": false
   }
  },
  {
   "cell_type": "code",
   "execution_count": null,
   "outputs": [],
   "source": [
    "# i = np.random.randint(0, Y_train.shape[0])\n",
    "x = np.array([X_train[i, :]])\n",
    "features = lstm2_extractor(x)\n",
    "for n in range(features.shape[2]):\n",
    "  plt.plot(np.array(features[:, :, n][0]), 'r')\n",
    "  plt.plot(X_train[i, :] / 10 + 4)\n",
    "  plt.show()"
   ],
   "metadata": {
    "collapsed": false
   }
  },
  {
   "cell_type": "code",
   "execution_count": null,
   "outputs": [],
   "source": [
    "x = np.array([X_train[i, :]])\n",
    "features = dense1_extractor(x)\n",
    "for n in range(features.shape[2]):\n",
    "  plt.plot(np.array(features[:, :, n][0]), 'r')\n",
    "  plt.plot(X_train[i, :] / 10 + 3)\n",
    "  # plt.imshow(X_train[i, :200].T)\n",
    "  plt.show()"
   ],
   "metadata": {
    "collapsed": false
   }
  },
  {
   "cell_type": "code",
   "execution_count": null,
   "outputs": [],
   "source": [
    "x = np.array([X_train[i, :]])\n",
    "features = output_extractor(x)\n",
    "for n in range(features.shape[2]):\n",
    "  plt.plot(np.array(features[:, :, n][0]), 'r')\n",
    "  plt.plot(X_train[i, :] / 10 + 3)\n",
    "  # plt.imshow(X_train[i, -200:].T)\n",
    "  plt.show()"
   ],
   "metadata": {
    "collapsed": false
   }
  },
  {
   "cell_type": "code",
   "execution_count": null,
   "outputs": [],
   "source": [
    "pred_test = model.predict(X_test)"
   ],
   "metadata": {
    "collapsed": false
   }
  },
  {
   "cell_type": "code",
   "execution_count": null,
   "outputs": [],
   "source": [],
   "metadata": {
    "collapsed": false
   }
  }
 ],
 "metadata": {
  "kernelspec": {
   "display_name": "Python 3",
   "language": "python",
   "name": "python3"
  },
  "language_info": {
   "codemirror_mode": {
    "name": "ipython",
    "version": 2
   },
   "file_extension": ".py",
   "mimetype": "text/x-python",
   "name": "python",
   "nbconvert_exporter": "python",
   "pygments_lexer": "ipython2",
   "version": "2.7.6"
  }
 },
 "nbformat": 4,
 "nbformat_minor": 0
}
